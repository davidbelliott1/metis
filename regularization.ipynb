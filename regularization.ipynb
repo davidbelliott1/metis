{
 "cells": [
  {
   "cell_type": "markdown",
   "metadata": {},
   "source": [
    "## Overview of regularization\n",
    "\n",
    "---\n",
    "\n",
    "**Regularizing** regression models is to:\n",
    "- **automatically** avoid overfitting \n",
    "- **while** we fit our model\n",
    "- by adding a \"penalty\" to our loss function.\n",
    "\n",
    "### Before regularziation (OLS):\n",
    "\n",
    "$$\n",
    "\\begin{align}\n",
    "\\text{minimize: MSE} &= \\textstyle\\frac{1}{n}\\sum (y_i - \\hat{y}_i)^2 \\\\ \\\\\n",
    "                     &= \\textstyle\\frac{1}{n}\\|\\mathbf{y} - \\hat{\\mathbf{y}}\\|^2 \\\\ \\\\\n",
    "                     &= \\textstyle\\frac{1}{n}\\|\\mathbf{y} - \\mathbf{X\\beta}\\|^2\n",
    "\\end{align}\n",
    "$$\n",
    "\n",
    "### After regularization (Ridge):\n",
    "\n",
    "$$\n",
    "\\begin{align}\n",
    "\\text{minimize: MSE + penalty} &= \\textstyle\\frac{1}{n}\\sum (y_i - \\hat{y}_i)^2 + \\alpha \\sum \\beta_j^2 \\\\ \\\\\n",
    "                               &= \\textstyle\\frac{1}{n}\\|\\mathbf{y} - \\hat{\\mathbf{y}}\\|^2 + \\alpha \\|\\beta\\|^2 \\\\ \\\\\n",
    "                               &= \\textstyle\\frac{1}{n}\\|\\mathbf{y} - \\mathbf{X}\\hat{\\beta}\\|^2 + \\alpha \\|\\beta\\|^2\n",
    "\\end{align}\n",
    "$$\n",
    "\n",
    "Adding this penalty term onto the end and then minimizing has a similar effect to the one described above. That is, **ridge regression shrinks our regression coefficients closer to zero to make our model simpler**. We are accepting more bias in exchange for decreased variance. We'll be tasked with picking the \"best\" $\\alpha$ that optimizes this bias-variance tradeoff.\n",
    "\n",
    "\n",
    "### Sidenote on notation:\n",
    "We'll be using $\\alpha$ to denote our **regularization parameter**, since that's what Scikit-Learn uses. However, this is contrary to data science literature. It is normally denoted with a $\\lambda$. Why? Only Google knows.\n",
    "\n",
    "### [Neat parameter space visualization!](https://timothykbook.shinyapps.io/RegularizationPlot/)"
   ]
  },
  {
   "cell_type": "code",
   "execution_count": null,
   "metadata": {},
   "outputs": [],
   "source": [
    "import pandas as pd\n",
    "import numpy as np"
   ]
  },
  {
   "cell_type": "code",
   "execution_count": null,
   "metadata": {},
   "outputs": [],
   "source": [
    "# Load in the wine .csv.\n",
    "wine = pd.read_csv('./data/winequality_merged.csv')\n",
    "\n",
    "# Convert all columns to lowercase and replace spaces in column names.\n",
    "wine.columns = wine.columns.str.lower().str.replace(' ', '_')"
   ]
  },
  {
   "cell_type": "code",
   "execution_count": null,
   "metadata": {},
   "outputs": [],
   "source": [
    " # How big is this dataset?\n",
    "wine.shape"
   ]
  },
  {
   "cell_type": "code",
   "execution_count": null,
   "metadata": {},
   "outputs": [],
   "source": [
    "# Check for missing values.\n",
    "wine.isnull().sum()"
   ]
  },
  {
   "cell_type": "code",
   "execution_count": null,
   "metadata": {},
   "outputs": [],
   "source": [
    "from sklearn.preprocessing import PolynomialFeatures\n",
    "\n",
    "# Create X and y.\n",
    "X = wine.drop('quality', axis=1)\n",
    "y = wine['quality']\n",
    "\n",
    "# Instantiate our PolynomialFeatures object to create all two-way terms.\n",
    "poly = PolynomialFeatures(degree=2, interaction_only=False, include_bias=False)\n",
    "\n",
    "# Fit and transform our X data.\n",
    "X_overfit = poly.fit_transform(X)"
   ]
  },
  {
   "cell_type": "code",
   "execution_count": null,
   "metadata": {},
   "outputs": [],
   "source": [
    "poly.get_feature_names(X.columns)"
   ]
  },
  {
   "cell_type": "code",
   "execution_count": null,
   "metadata": {},
   "outputs": [],
   "source": [
    "# Check out the dimensions of X_overfit.\n",
    "X_overfit.shape"
   ]
  },
  {
   "cell_type": "markdown",
   "metadata": {},
   "source": [
    "### Preprocessing"
   ]
  },
  {
   "cell_type": "code",
   "execution_count": null,
   "metadata": {},
   "outputs": [],
   "source": [
    "# Import train_test_split.\n",
    "from sklearn.model_selection import train_test_split\n",
    "from sklearn.preprocessing import StandardScaler"
   ]
  },
  {
   "cell_type": "code",
   "execution_count": null,
   "metadata": {},
   "outputs": [],
   "source": [
    "# Create train/test splits.\n",
    "X_train, X_test, y_train, y_test = train_test_split(\n",
    "    X_overfit,\n",
    "    y,\n",
    "    test_size=0.7,\n",
    "    random_state=42\n",
    ")"
   ]
  },
  {
   "cell_type": "code",
   "execution_count": null,
   "metadata": {},
   "outputs": [],
   "source": [
    "# Scale our data.\n",
    "# Relabeling scaled data as \"Z\" is common.\n",
    "sc = StandardScaler()\n",
    "Z_train = sc.fit_transform(X_train)\n",
    "Z_test = sc.transform(X_test)"
   ]
  },
  {
   "cell_type": "code",
   "execution_count": null,
   "metadata": {},
   "outputs": [],
   "source": [
    "print(f'Z_train shape is: {Z_train.shape}')\n",
    "print(f'y_train shape is: {y_train.shape}')\n",
    "print(f'Z_test shape is: {Z_test.shape}')\n",
    "print(f'y_test shape is: {y_test.shape}')"
   ]
  },
  {
   "cell_type": "markdown",
   "metadata": {},
   "source": [
    "### Normal Linear Regression"
   ]
  },
  {
   "cell_type": "code",
   "execution_count": null,
   "metadata": {},
   "outputs": [],
   "source": [
    "# Import the appropriate library and fit our OLS model.\n",
    "from sklearn.linear_model import LinearRegression\n",
    "\n",
    "ols = LinearRegression()\n",
    "ols.fit(Z_train, y_train)\n",
    "\n",
    "# How does the model score on the training and test data?\n",
    "print(ols.score(Z_train, y_train))\n",
    "print(ols.score(Z_test, y_test))"
   ]
  },
  {
   "cell_type": "markdown",
   "metadata": {},
   "source": [
    "### Ridge Regularization"
   ]
  },
  {
   "cell_type": "code",
   "execution_count": null,
   "metadata": {},
   "outputs": [],
   "source": [
    "# Ridge regressor lives here:\n",
    "from sklearn.linear_model import Ridge"
   ]
  },
  {
   "cell_type": "code",
   "execution_count": null,
   "metadata": {},
   "outputs": [],
   "source": [
    "# Instantiate.\n",
    "ridge_model = Ridge(alpha=10)\n",
    "\n",
    "# Fit.\n",
    "ridge_model.fit(Z_train, y_train)\n",
    "\n",
    "# Evaluate model using R2.\n",
    "print(ridge_model.score(Z_train, y_train))\n",
    "print(ridge_model.score(Z_test, y_test))"
   ]
  },
  {
   "cell_type": "markdown",
   "metadata": {},
   "source": [
    "### LASSO Regularization"
   ]
  },
  {
   "cell_type": "code",
   "execution_count": null,
   "metadata": {},
   "outputs": [],
   "source": [
    "# Imports similar to Ridge\n",
    "from sklearn.linear_model import Lasso"
   ]
  },
  {
   "cell_type": "code",
   "execution_count": null,
   "metadata": {},
   "outputs": [],
   "source": [
    "# Instantiate\n",
    "lasso_model = Lasso(alpha=.007)\n",
    "\n",
    "# fit\n",
    "lasso_model.fit(Z_train, y_train)\n",
    "\n",
    "# Evaluate model using R2.\n",
    "print(lasso_model.score(Z_train, y_train))\n",
    "print(lasso_model.score(Z_test, y_test))"
   ]
  },
  {
   "cell_type": "markdown",
   "metadata": {},
   "source": [
    "### Compare Coefficients"
   ]
  },
  {
   "cell_type": "markdown",
   "metadata": {},
   "source": [
    "#### OLS"
   ]
  },
  {
   "cell_type": "code",
   "execution_count": null,
   "metadata": {
    "scrolled": false
   },
   "outputs": [],
   "source": [
    "ols.coef_"
   ]
  },
  {
   "cell_type": "markdown",
   "metadata": {},
   "source": [
    "#### Ridge"
   ]
  },
  {
   "cell_type": "code",
   "execution_count": null,
   "metadata": {},
   "outputs": [],
   "source": [
    "ridge_model.coef_"
   ]
  },
  {
   "cell_type": "markdown",
   "metadata": {},
   "source": [
    "#### LASSO"
   ]
  },
  {
   "cell_type": "code",
   "execution_count": null,
   "metadata": {},
   "outputs": [],
   "source": [
    "lasso_model.coef_"
   ]
  },
  {
   "cell_type": "code",
   "execution_count": null,
   "metadata": {},
   "outputs": [],
   "source": [
    "list(zip(poly.get_feature_names(X.columns), ols.coef_))"
   ]
  },
  {
   "cell_type": "code",
   "execution_count": null,
   "metadata": {},
   "outputs": [],
   "source": [
    "list(zip(poly.get_feature_names(X.columns), ridge_model.coef_))"
   ]
  },
  {
   "cell_type": "code",
   "execution_count": null,
   "metadata": {},
   "outputs": [],
   "source": [
    "list(zip(poly.get_feature_names(X.columns), lasso_model.coef_))"
   ]
  },
  {
   "cell_type": "markdown",
   "metadata": {},
   "source": [
    "## If there is time left...\n",
    "\n",
    "\n",
    "## BOTH!"
   ]
  },
  {
   "cell_type": "markdown",
   "metadata": {},
   "source": [
    "Can't decide?\n",
    "\n",
    "![](../imgs/ridge-VS-lasso.jpg)\n",
    "\n",
    "The Elastic Net combines the Ridge and Lasso penalties.  It adds *both* penalties to the loss function:\n",
    "\n",
    "$$\n",
    "\\begin{eqnarray}\n",
    "SSE + Ridge + Lasso &=& \\sum_{i=1}^n \\left(y_i - \\hat{y}_i\\right)^2 + \\alpha\\left[\\rho\\sum_{j=1}^p |\\beta_j| + (1-\\rho)\\sum_{j=1}^p \\beta_j^2\\right] \\\\\n",
    "&=& \\|\\mathbf{y} - \\mathbf{X}\\beta\\|^2 + \\alpha\\left(\\rho\\|\\beta\\|_1 + (1 - \\rho)\\|\\beta\\|^2\\right)\n",
    "\\end{eqnarray}\n",
    "$$\n",
    "\n",
    "\n",
    "In the elastic net, the effect of the ridge versus the lasso is balanced by the $\\rho$ parameter.  It is the ratio of Lasso penalty to Ridge penalty and must be between zero and one.\n",
    "\n",
    "`ElasticNet` in sklearn has two parameters:\n",
    "- `alpha`: the regularization strength.\n",
    "- `l1_ratio`: the amount of L1 vs L2 penalty (i.e., $\\rho$). An l1_ratio of 0 is equivalent to the Ridge, whereas an l1_ratio of 1 is equivalent to the Lasso."
   ]
  },
  {
   "cell_type": "code",
   "execution_count": null,
   "metadata": {},
   "outputs": [],
   "source": [
    "from sklearn.linear_model import ElasticNet"
   ]
  },
  {
   "cell_type": "code",
   "execution_count": null,
   "metadata": {},
   "outputs": [],
   "source": [
    "# Instantiate and fit\n",
    "elastic_model = ElasticNet(alpha=.5).fit(Z_train, y_train)\n",
    "\n",
    "# Evaluate model using R2.\n",
    "print(elastic_model.score(Z_train, y_train))\n",
    "print(elastic_model.score(Z_test, y_test))"
   ]
  },
  {
   "cell_type": "code",
   "execution_count": null,
   "metadata": {},
   "outputs": [],
   "source": [
    "elastic_model.coef_"
   ]
  },
  {
   "cell_type": "code",
   "execution_count": null,
   "metadata": {},
   "outputs": [],
   "source": [
    "list(zip(poly.get_feature_names(X.columns), elastic_model.coef_))"
   ]
  }
 ],
 "metadata": {
  "kernelspec": {
   "display_name": "Python 3",
   "language": "python",
   "name": "python3"
  },
  "language_info": {
   "codemirror_mode": {
    "name": "ipython",
    "version": 3
   },
   "file_extension": ".py",
   "mimetype": "text/x-python",
   "name": "python",
   "nbconvert_exporter": "python",
   "pygments_lexer": "ipython3",
   "version": "3.7.4"
  }
 },
 "nbformat": 4,
 "nbformat_minor": 2
}
